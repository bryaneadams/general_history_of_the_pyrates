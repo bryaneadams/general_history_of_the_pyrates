{
 "cells": [
  {
   "cell_type": "code",
   "execution_count": 211,
   "id": "06be2c48-60a4-4a5e-902f-2d1f4c62f1b7",
   "metadata": {},
   "outputs": [],
   "source": [
    "import numpy as np\n",
    "import seaborn as sns\n",
    "import pickle\n",
    "from matplotlib import pyplot as plt\n",
    "from sklearn.metrics import confusion_matrix\n",
    "from sklearn.metrics import accuracy_score\n",
    "\n",
    "import tensorflow_datasets as tfds\n",
    "import tensorflow as tf\n",
    "from tensorflow.keras.models import Sequential\n",
    "from tensorflow.keras.layers import Embedding, LSTM, Dense, GlobalAveragePooling1D, Dropout, Bidirectional\n",
    "from tensorflow.keras.preprocessing.text import Tokenizer\n",
    "from tensorflow.keras.preprocessing.sequence import pad_sequences\n",
    "from tensorflow.keras.utils import to_categorical\n",
    "from tensorflow.keras.regularizers import l2"
   ]
  },
  {
   "cell_type": "code",
   "execution_count": 21,
   "id": "26197db8-4a2d-4cb1-9bef-1e47d8891e9d",
   "metadata": {},
   "outputs": [],
   "source": [
    "from utils import helpers as hp"
   ]
  },
  {
   "cell_type": "markdown",
   "id": "930917c7-8f4a-4fb7-ba3d-eec37c5070e2",
   "metadata": {},
   "source": [
    "### Create dataset"
   ]
  },
  {
   "cell_type": "code",
   "execution_count": null,
   "id": "564752c3-ac68-4344-b372-d5198f27cf94",
   "metadata": {},
   "outputs": [],
   "source": [
    "with open('../model_data/dataset.pkl', 'rb') as file:\n",
    "    data_set_dict = pickle.load(file)"
   ]
  },
  {
   "cell_type": "code",
   "execution_count": 93,
   "id": "a7868655-06a4-4bb6-b8bb-330df73ccbef",
   "metadata": {},
   "outputs": [],
   "source": [
    "sentences = data_set_dict['sentences']\n",
    "labels = data_set_dict['labels']"
   ]
  },
  {
   "cell_type": "code",
   "execution_count": 148,
   "id": "d05ff0c7-9a3e-4824-979a-fd63ad5d4998",
   "metadata": {},
   "outputs": [],
   "source": [
    "dataset = tf.data.Dataset.from_tensor_slices((sentences, labels))\n",
    "shuffled_dataset = dataset.shuffle(buffer_size=20000)"
   ]
  },
  {
   "cell_type": "markdown",
   "id": "3c77605e-fa45-4a74-9cfd-24cf88a3279e",
   "metadata": {},
   "source": [
    "#### Split dataset"
   ]
  },
  {
   "cell_type": "code",
   "execution_count": 149,
   "id": "86d54287-1853-4553-830c-7b4519f225dd",
   "metadata": {},
   "outputs": [],
   "source": [
    "train_size = int(0.8 * len(dataset))\n",
    "train_dataset = shuffled_dataset.take(train_size)\n",
    "test_dataset = shuffled_dataset.skip(train_size)"
   ]
  },
  {
   "cell_type": "code",
   "execution_count": 150,
   "id": "bd3c7700-58da-4c6d-afee-3a6b3033853f",
   "metadata": {},
   "outputs": [
    {
     "data": {
      "text/plain": [
       "(3967, 992)"
      ]
     },
     "execution_count": 150,
     "metadata": {},
     "output_type": "execute_result"
    }
   ],
   "source": [
    "len(train_dataset), len(test_dataset)"
   ]
  },
  {
   "cell_type": "markdown",
   "id": "957e144b-8acf-429a-a3d8-4d63533b9946",
   "metadata": {},
   "source": [
    "#### Read in GLoVE"
   ]
  },
  {
   "cell_type": "code",
   "execution_count": 22,
   "id": "3eb3b645-4e51-4134-8f33-d03b7bbfa4e0",
   "metadata": {},
   "outputs": [],
   "source": [
    "glove_path = '/projects/elopez22/AAW/glove/glove.840B.300d.txt'\n",
    "glove_embeddings = hp.load_glove_embeddings(glove_path)"
   ]
  },
  {
   "cell_type": "markdown",
   "id": "1432a810-565c-4f76-94e7-2d4e74ba3ba6",
   "metadata": {},
   "source": [
    "#### Prep data for the model"
   ]
  },
  {
   "cell_type": "code",
   "execution_count": 24,
   "id": "fc20029c-4bbe-4eff-8ff0-cc7c4d1f6d2f",
   "metadata": {},
   "outputs": [],
   "source": [
    "embedding_dim = 300"
   ]
  },
  {
   "cell_type": "code",
   "execution_count": 151,
   "id": "fba5e349-5d72-41e0-bcd9-41431a0f9ffd",
   "metadata": {},
   "outputs": [],
   "source": [
    "train_text_data = [x.numpy().decode('utf-8') for x, _ in train_dataset]\n",
    "test_text_data = [x.numpy().decode('utf-8') for x, _ in test_dataset]"
   ]
  },
  {
   "cell_type": "code",
   "execution_count": 152,
   "id": "9734e73a-28cb-46b5-b0dd-972fe8c48577",
   "metadata": {},
   "outputs": [
    {
     "name": "stderr",
     "output_type": "stream",
     "text": [
      "2024-12-02 10:21:08.567144: I tensorflow/core/framework/local_rendezvous.cc:405] Local rendezvous is aborting with status: OUT_OF_RANGE: End of sequence\n"
     ]
    }
   ],
   "source": [
    "train_label_data = [label.numpy() for _, label in train_dataset]\n",
    "test_label_data = [label.numpy() for _, label in test_dataset]"
   ]
  },
  {
   "cell_type": "code",
   "execution_count": 153,
   "id": "40875b91-6617-48d6-b62b-7fc48b0a1946",
   "metadata": {},
   "outputs": [
    {
     "data": {
      "text/plain": [
       "(array([0, 1, 2], dtype=int32), array([2511,  485,  971]))"
      ]
     },
     "execution_count": 153,
     "metadata": {},
     "output_type": "execute_result"
    }
   ],
   "source": [
    "np.unique(train_label_data, return_counts = True)"
   ]
  },
  {
   "cell_type": "code",
   "execution_count": 154,
   "id": "017c5436-f37c-4cd2-bb3e-6228b09d5366",
   "metadata": {},
   "outputs": [
    {
     "data": {
      "text/plain": [
       "(array([0, 1, 2], dtype=int32), array([638, 116, 238]))"
      ]
     },
     "execution_count": 154,
     "metadata": {},
     "output_type": "execute_result"
    }
   ],
   "source": [
    "np.unique(test_label_data, return_counts = True)"
   ]
  },
  {
   "cell_type": "code",
   "execution_count": 155,
   "id": "760975e6-89c6-4a74-9771-b35b2f44b398",
   "metadata": {},
   "outputs": [],
   "source": [
    "tokenizer = tf.keras.preprocessing.text.Tokenizer()\n",
    "tokenizer.fit_on_texts(train_text_data)\n",
    "vocab_size = len(tokenizer.word_index) + 1"
   ]
  },
  {
   "cell_type": "code",
   "execution_count": 156,
   "id": "570838c9-5f90-469c-a494-c25e906d34f3",
   "metadata": {},
   "outputs": [
    {
     "data": {
      "text/plain": [
       "14146"
      ]
     },
     "execution_count": 156,
     "metadata": {},
     "output_type": "execute_result"
    }
   ],
   "source": [
    "vocab_size"
   ]
  },
  {
   "cell_type": "markdown",
   "id": "4c2d36c0-6ccc-497a-a1ef-79d1cd72c2db",
   "metadata": {},
   "source": [
    "Convert text to sequences"
   ]
  },
  {
   "cell_type": "code",
   "execution_count": 157,
   "id": "e6fd0e0e-aa91-4032-b4c3-06ea45798dd8",
   "metadata": {},
   "outputs": [],
   "source": [
    "x_train = tokenizer.texts_to_sequences(train_text_data)\n",
    "x_test = tokenizer.texts_to_sequences(test_text_data)"
   ]
  },
  {
   "cell_type": "markdown",
   "id": "71da9149-2c78-424b-a52f-07be2fc33022",
   "metadata": {},
   "source": [
    "pad sequences"
   ]
  },
  {
   "cell_type": "code",
   "execution_count": 158,
   "id": "b5d1bafd-7ed5-42f6-a34f-6e1f1241cf7b",
   "metadata": {},
   "outputs": [],
   "source": [
    "max_len = 478\n",
    "x_train = pad_sequences(x_train, maxlen=max_len)\n",
    "x_test = pad_sequences(x_test, maxlen=max_len)"
   ]
  },
  {
   "cell_type": "markdown",
   "id": "8caf99f1-7cba-4e23-833d-73dbda649fae",
   "metadata": {},
   "source": [
    "Create embedding matrix"
   ]
  },
  {
   "cell_type": "code",
   "execution_count": 160,
   "id": "7536e1aa-5171-4966-ae6a-509d760fb8d9",
   "metadata": {},
   "outputs": [],
   "source": [
    "embedding_matrix = np.zeros((vocab_size, embedding_dim))\n",
    "\n",
    "for word, index in tokenizer.word_index.items():\n",
    "    if index < vocab_size:\n",
    "        embedding_vector = glove_embeddings.get(word)\n",
    "        if embedding_vector is not None:\n",
    "            embedding_matrix[index] = embedding_vector"
   ]
  },
  {
   "cell_type": "code",
   "execution_count": 161,
   "id": "80d0de23-71dd-489a-99b4-0430071e5c31",
   "metadata": {},
   "outputs": [],
   "source": [
    "train_labels_cat = to_categorical(train_label_data, num_classes=4) "
   ]
  },
  {
   "cell_type": "code",
   "execution_count": 166,
   "id": "d9a0a511-2e28-4ca3-8078-cbf617b8858f",
   "metadata": {},
   "outputs": [],
   "source": [
    "test_labels_cat = to_categorical(test_label_data, num_classes=4)"
   ]
  },
  {
   "cell_type": "markdown",
   "id": "b1ff8dfe-876c-4e5a-aeb7-e8e8d1ce191a",
   "metadata": {
    "tags": []
   },
   "source": [
    "### Model"
   ]
  },
  {
   "cell_type": "code",
   "execution_count": 164,
   "id": "6f568e63-2c26-41cf-b676-5da39cd9f731",
   "metadata": {},
   "outputs": [],
   "source": [
    "model = Sequential([\n",
    "    Embedding(\n",
    "        input_dim=vocab_size,\n",
    "        output_dim=embedding_dim,\n",
    "        weights=[embedding_matrix],\n",
    "        trainable=False \n",
    "    ),\n",
    "    Bidirectional(LSTM(64)),\n",
    "    Dense(64, activation='relu'),\n",
    "    Dense(4, activation=\"sigmoid\")\n",
    "])\n",
    "\n",
    "model.compile(optimizer=\"adam\", loss=\"binary_crossentropy\", metrics=[\"accuracy\"])"
   ]
  },
  {
   "cell_type": "code",
   "execution_count": 165,
   "id": "6407c3e3-e37e-40f7-90a3-c12e3515f289",
   "metadata": {},
   "outputs": [
    {
     "name": "stdout",
     "output_type": "stream",
     "text": [
      "Epoch 1/10\n",
      "\u001b[1m100/100\u001b[0m \u001b[32m━━━━━━━━━━━━━━━━━━━━\u001b[0m\u001b[37m\u001b[0m \u001b[1m5s\u001b[0m 32ms/step - accuracy: 0.5990 - loss: 0.4733 - val_accuracy: 0.6436 - val_loss: 0.3891\n",
      "Epoch 2/10\n",
      "\u001b[1m100/100\u001b[0m \u001b[32m━━━━━━━━━━━━━━━━━━━━\u001b[0m\u001b[37m\u001b[0m \u001b[1m3s\u001b[0m 30ms/step - accuracy: 0.6251 - loss: 0.4002 - val_accuracy: 0.6436 - val_loss: 0.3926\n",
      "Epoch 3/10\n",
      "\u001b[1m100/100\u001b[0m \u001b[32m━━━━━━━━━━━━━━━━━━━━\u001b[0m\u001b[37m\u001b[0m \u001b[1m3s\u001b[0m 30ms/step - accuracy: 0.6354 - loss: 0.3928 - val_accuracy: 0.6436 - val_loss: 0.3934\n",
      "Epoch 4/10\n",
      "\u001b[1m100/100\u001b[0m \u001b[32m━━━━━━━━━━━━━━━━━━━━\u001b[0m\u001b[37m\u001b[0m \u001b[1m3s\u001b[0m 30ms/step - accuracy: 0.6167 - loss: 0.3987 - val_accuracy: 0.6436 - val_loss: 0.3917\n",
      "Epoch 5/10\n",
      "\u001b[1m100/100\u001b[0m \u001b[32m━━━━━━━━━━━━━━━━━━━━\u001b[0m\u001b[37m\u001b[0m \u001b[1m3s\u001b[0m 30ms/step - accuracy: 0.6330 - loss: 0.3877 - val_accuracy: 0.6373 - val_loss: 0.4003\n",
      "Epoch 6/10\n",
      "\u001b[1m100/100\u001b[0m \u001b[32m━━━━━━━━━━━━━━━━━━━━\u001b[0m\u001b[37m\u001b[0m \u001b[1m3s\u001b[0m 30ms/step - accuracy: 0.6252 - loss: 0.3860 - val_accuracy: 0.6373 - val_loss: 0.4001\n",
      "Epoch 7/10\n",
      "\u001b[1m100/100\u001b[0m \u001b[32m━━━━━━━━━━━━━━━━━━━━\u001b[0m\u001b[37m\u001b[0m \u001b[1m5s\u001b[0m 30ms/step - accuracy: 0.6404 - loss: 0.3730 - val_accuracy: 0.6134 - val_loss: 0.4053\n",
      "Epoch 8/10\n",
      "\u001b[1m100/100\u001b[0m \u001b[32m━━━━━━━━━━━━━━━━━━━━\u001b[0m\u001b[37m\u001b[0m \u001b[1m5s\u001b[0m 30ms/step - accuracy: 0.6758 - loss: 0.3500 - val_accuracy: 0.5705 - val_loss: 0.4237\n",
      "Epoch 9/10\n",
      "\u001b[1m100/100\u001b[0m \u001b[32m━━━━━━━━━━━━━━━━━━━━\u001b[0m\u001b[37m\u001b[0m \u001b[1m3s\u001b[0m 30ms/step - accuracy: 0.6987 - loss: 0.3386 - val_accuracy: 0.5995 - val_loss: 0.4294\n",
      "Epoch 10/10\n",
      "\u001b[1m100/100\u001b[0m \u001b[32m━━━━━━━━━━━━━━━━━━━━\u001b[0m\u001b[37m\u001b[0m \u001b[1m3s\u001b[0m 30ms/step - accuracy: 0.7372 - loss: 0.3034 - val_accuracy: 0.5579 - val_loss: 0.4513\n"
     ]
    }
   ],
   "source": [
    "history = model.fit(\n",
    "    x_train, train_labels_cat,\n",
    "    validation_split=0.2,\n",
    "    epochs=10,\n",
    "    batch_size=32\n",
    ")"
   ]
  },
  {
   "cell_type": "code",
   "execution_count": null,
   "id": "088fe1bb-774d-45dc-af08-bb9fdaacef0b",
   "metadata": {},
   "outputs": [
    {
     "name": "stdout",
     "output_type": "stream",
     "text": [
      "\u001b[1m31/31\u001b[0m \u001b[32m━━━━━━━━━━━━━━━━━━━━\u001b[0m\u001b[37m\u001b[0m \u001b[1m0s\u001b[0m 13ms/step\n"
     ]
    }
   ],
   "source": [
    "model_1_cm, model_1_cmn,score = hp.determine_model_performance(model, x_test, test_label_data)"
   ]
  },
  {
   "cell_type": "code",
   "execution_count": 214,
   "id": "b7b8a6bd-0022-400c-831a-c945b30c9aa3",
   "metadata": {},
   "outputs": [
    {
     "data": {
      "text/plain": [
       "array([[495,  42, 101],\n",
       "       [ 92,   4,  20],\n",
       "       [174,  18,  46]])"
      ]
     },
     "execution_count": 214,
     "metadata": {},
     "output_type": "execute_result"
    }
   ],
   "source": [
    "model_1_cm"
   ]
  },
  {
   "cell_type": "code",
   "execution_count": 215,
   "id": "efccc1f4-0c05-4cd5-8b3d-a20eec26c52a",
   "metadata": {},
   "outputs": [
    {
     "data": {
      "text/plain": [
       "array([[0.77586207, 0.06583072, 0.15830721],\n",
       "       [0.79310345, 0.03448276, 0.17241379],\n",
       "       [0.73109244, 0.07563025, 0.19327731]])"
      ]
     },
     "execution_count": 215,
     "metadata": {},
     "output_type": "execute_result"
    }
   ],
   "source": [
    "model_1_cmn"
   ]
  },
  {
   "cell_type": "code",
   "execution_count": 216,
   "id": "55fb7a51-0fb5-4cc0-bd55-66e3b7eb7c70",
   "metadata": {},
   "outputs": [
    {
     "data": {
      "text/plain": [
       "0.5493951612903226"
      ]
     },
     "execution_count": 216,
     "metadata": {},
     "output_type": "execute_result"
    }
   ],
   "source": [
    "score"
   ]
  },
  {
   "cell_type": "code",
   "execution_count": 193,
   "id": "2efe8939-c120-4973-b99c-fd25a8100560",
   "metadata": {},
   "outputs": [],
   "source": [
    "model_2 = Sequential([\n",
    "    Embedding(\n",
    "        input_dim=vocab_size,\n",
    "        output_dim=embedding_dim,\n",
    "        weights=[embedding_matrix],\n",
    "        trainable=False  # Freeze embeddings, or set to True to fine-tune\n",
    "    ),\n",
    "    Dropout(0.2),  # Add dropout after the embedding layer\n",
    "    Bidirectional(LSTM(64, return_sequences=False)),\n",
    "    Dropout(0.2),  # Add dropout after the LSTM layer\n",
    "    Dense(64, activation='relu'),\n",
    "    Dropout(0.2),  # Add dropout after the Dense layer\n",
    "    Dense(4, activation=\"sigmoid\")\n",
    "])\n",
    "model_2.compile(optimizer=\"adam\", loss=\"binary_crossentropy\", metrics=[\"accuracy\"])\n"
   ]
  },
  {
   "cell_type": "code",
   "execution_count": 195,
   "id": "a334025f-855e-4cc8-b2d0-a946d6076cf5",
   "metadata": {},
   "outputs": [
    {
     "name": "stdout",
     "output_type": "stream",
     "text": [
      "Epoch 1/10\n",
      "\u001b[1m100/100\u001b[0m \u001b[32m━━━━━━━━━━━━━━━━━━━━\u001b[0m\u001b[37m\u001b[0m \u001b[1m3s\u001b[0m 31ms/step - accuracy: 0.6714 - loss: 0.3550 - val_accuracy: 0.6322 - val_loss: 0.4151\n",
      "Epoch 2/10\n",
      "\u001b[1m100/100\u001b[0m \u001b[32m━━━━━━━━━━━━━━━━━━━━\u001b[0m\u001b[37m\u001b[0m \u001b[1m3s\u001b[0m 31ms/step - accuracy: 0.6892 - loss: 0.3393 - val_accuracy: 0.6121 - val_loss: 0.4186\n",
      "Epoch 3/10\n",
      "\u001b[1m100/100\u001b[0m \u001b[32m━━━━━━━━━━━━━━━━━━━━\u001b[0m\u001b[37m\u001b[0m \u001b[1m3s\u001b[0m 31ms/step - accuracy: 0.6856 - loss: 0.3354 - val_accuracy: 0.5919 - val_loss: 0.4320\n",
      "Epoch 4/10\n",
      "\u001b[1m100/100\u001b[0m \u001b[32m━━━━━━━━━━━━━━━━━━━━\u001b[0m\u001b[37m\u001b[0m \u001b[1m3s\u001b[0m 31ms/step - accuracy: 0.7079 - loss: 0.3171 - val_accuracy: 0.5982 - val_loss: 0.4467\n",
      "Epoch 5/10\n",
      "\u001b[1m100/100\u001b[0m \u001b[32m━━━━━━━━━━━━━━━━━━━━\u001b[0m\u001b[37m\u001b[0m \u001b[1m3s\u001b[0m 34ms/step - accuracy: 0.7467 - loss: 0.2900 - val_accuracy: 0.5680 - val_loss: 0.4513\n",
      "Epoch 6/10\n",
      "\u001b[1m100/100\u001b[0m \u001b[32m━━━━━━━━━━━━━━━━━━━━\u001b[0m\u001b[37m\u001b[0m \u001b[1m3s\u001b[0m 31ms/step - accuracy: 0.7802 - loss: 0.2579 - val_accuracy: 0.5378 - val_loss: 0.5047\n",
      "Epoch 7/10\n",
      "\u001b[1m100/100\u001b[0m \u001b[32m━━━━━━━━━━━━━━━━━━━━\u001b[0m\u001b[37m\u001b[0m \u001b[1m3s\u001b[0m 31ms/step - accuracy: 0.8020 - loss: 0.2408 - val_accuracy: 0.5189 - val_loss: 0.5224\n",
      "Epoch 8/10\n",
      "\u001b[1m100/100\u001b[0m \u001b[32m━━━━━━━━━━━━━━━━━━━━\u001b[0m\u001b[37m\u001b[0m \u001b[1m3s\u001b[0m 31ms/step - accuracy: 0.8029 - loss: 0.2374 - val_accuracy: 0.5668 - val_loss: 0.5597\n",
      "Epoch 9/10\n",
      "\u001b[1m100/100\u001b[0m \u001b[32m━━━━━━━━━━━━━━━━━━━━\u001b[0m\u001b[37m\u001b[0m \u001b[1m3s\u001b[0m 31ms/step - accuracy: 0.8221 - loss: 0.2058 - val_accuracy: 0.5428 - val_loss: 0.5590\n",
      "Epoch 10/10\n",
      "\u001b[1m100/100\u001b[0m \u001b[32m━━━━━━━━━━━━━━━━━━━━\u001b[0m\u001b[37m\u001b[0m \u001b[1m3s\u001b[0m 31ms/step - accuracy: 0.8454 - loss: 0.1843 - val_accuracy: 0.5390 - val_loss: 0.5991\n"
     ]
    }
   ],
   "source": [
    "history_2 = model_2.fit(\n",
    "    x_train, train_labels_cat,\n",
    "    validation_split=0.2,\n",
    "    epochs=10,\n",
    "    batch_size=32\n",
    ")"
   ]
  },
  {
   "cell_type": "code",
   "execution_count": null,
   "id": "8ac3a2b3-4fbb-4c9d-94d6-9b92acae8777",
   "metadata": {},
   "outputs": [
    {
     "name": "stdout",
     "output_type": "stream",
     "text": [
      "\u001b[1m31/31\u001b[0m \u001b[32m━━━━━━━━━━━━━━━━━━━━\u001b[0m\u001b[37m\u001b[0m \u001b[1m0s\u001b[0m 13ms/step\n"
     ]
    }
   ],
   "source": [
    "model_2_cm, model_2_cmn, score = hp.determine_model_performance(model_2, x_test, test_label_data)"
   ]
  },
  {
   "cell_type": "code",
   "execution_count": 218,
   "id": "d788ea93-3d72-4363-b767-ecd3cbada928",
   "metadata": {},
   "outputs": [
    {
     "data": {
      "text/plain": [
       "array([[495,  42, 101],\n",
       "       [ 92,   4,  20],\n",
       "       [174,  18,  46]])"
      ]
     },
     "execution_count": 218,
     "metadata": {},
     "output_type": "execute_result"
    }
   ],
   "source": [
    "model_2_cm"
   ]
  },
  {
   "cell_type": "code",
   "execution_count": 219,
   "id": "a5bb64aa-c55c-4964-aa83-a546433fa173",
   "metadata": {},
   "outputs": [
    {
     "data": {
      "text/plain": [
       "array([[0.77586207, 0.06583072, 0.15830721],\n",
       "       [0.79310345, 0.03448276, 0.17241379],\n",
       "       [0.73109244, 0.07563025, 0.19327731]])"
      ]
     },
     "execution_count": 219,
     "metadata": {},
     "output_type": "execute_result"
    }
   ],
   "source": [
    "model_2_cmn"
   ]
  },
  {
   "cell_type": "code",
   "execution_count": 220,
   "id": "ba86542f-e890-4a24-b320-e8469470663d",
   "metadata": {},
   "outputs": [
    {
     "data": {
      "text/plain": [
       "0.5493951612903226"
      ]
     },
     "execution_count": 220,
     "metadata": {},
     "output_type": "execute_result"
    }
   ],
   "source": [
    "score"
   ]
  },
  {
   "cell_type": "code",
   "execution_count": 202,
   "id": "325cde7f-3cfa-408d-99fc-646330570643",
   "metadata": {},
   "outputs": [],
   "source": [
    "model_3 = Sequential([\n",
    "    Embedding(\n",
    "        input_dim=vocab_size,\n",
    "        output_dim=embedding_dim,\n",
    "        weights=[embedding_matrix],\n",
    "        trainable=False  # Freeze embeddings, or set to True to fine-tune\n",
    "    ),\n",
    "    Dropout(0.2),  # Dropout after embedding layer\n",
    "    Bidirectional(LSTM(64, return_sequences=False, \n",
    "                       kernel_regularizer=l2(0.01))),  # L2 regularization\n",
    "    Dropout(0.2),  # Dropout after LSTM\n",
    "    Dense(64, activation='relu', kernel_regularizer=l2(0.01)),  # L2 on Dense layer\n",
    "    Dropout(0.2),  # Dropout after Dense layer\n",
    "    Dense(4, activation=\"sigmoid\", kernel_regularizer=l2(0.01))  # L2 on final Dense\n",
    "])\n",
    "model_3.compile(optimizer=\"adam\", loss=\"binary_crossentropy\", metrics=[\"accuracy\"])"
   ]
  },
  {
   "cell_type": "code",
   "execution_count": 203,
   "id": "ebb882eb-e7ee-4430-bdd6-1a19dfdafc93",
   "metadata": {},
   "outputs": [
    {
     "name": "stdout",
     "output_type": "stream",
     "text": [
      "Epoch 1/10\n",
      "\u001b[1m100/100\u001b[0m \u001b[32m━━━━━━━━━━━━━━━━━━━━\u001b[0m\u001b[37m\u001b[0m \u001b[1m5s\u001b[0m 36ms/step - accuracy: 0.5960 - loss: 4.2476 - val_accuracy: 0.6436 - val_loss: 0.7435\n",
      "Epoch 2/10\n",
      "\u001b[1m100/100\u001b[0m \u001b[32m━━━━━━━━━━━━━━━━━━━━\u001b[0m\u001b[37m\u001b[0m \u001b[1m3s\u001b[0m 31ms/step - accuracy: 0.6244 - loss: 0.6381 - val_accuracy: 0.6436 - val_loss: 0.4591\n",
      "Epoch 3/10\n",
      "\u001b[1m100/100\u001b[0m \u001b[32m━━━━━━━━━━━━━━━━━━━━\u001b[0m\u001b[37m\u001b[0m \u001b[1m3s\u001b[0m 31ms/step - accuracy: 0.6455 - loss: 0.4552 - val_accuracy: 0.6436 - val_loss: 0.4261\n",
      "Epoch 4/10\n",
      "\u001b[1m100/100\u001b[0m \u001b[32m━━━━━━━━━━━━━━━━━━━━\u001b[0m\u001b[37m\u001b[0m \u001b[1m3s\u001b[0m 31ms/step - accuracy: 0.6291 - loss: 0.4372 - val_accuracy: 0.6436 - val_loss: 0.4149\n",
      "Epoch 5/10\n",
      "\u001b[1m100/100\u001b[0m \u001b[32m━━━━━━━━━━━━━━━━━━━━\u001b[0m\u001b[37m\u001b[0m \u001b[1m3s\u001b[0m 31ms/step - accuracy: 0.6156 - loss: 0.4337 - val_accuracy: 0.6436 - val_loss: 0.4081\n",
      "Epoch 6/10\n",
      "\u001b[1m100/100\u001b[0m \u001b[32m━━━━━━━━━━━━━━━━━━━━\u001b[0m\u001b[37m\u001b[0m \u001b[1m3s\u001b[0m 31ms/step - accuracy: 0.6264 - loss: 0.4252 - val_accuracy: 0.6436 - val_loss: 0.4064\n",
      "Epoch 7/10\n",
      "\u001b[1m100/100\u001b[0m \u001b[32m━━━━━━━━━━━━━━━━━━━━\u001b[0m\u001b[37m\u001b[0m \u001b[1m3s\u001b[0m 31ms/step - accuracy: 0.6284 - loss: 0.4197 - val_accuracy: 0.6436 - val_loss: 0.4038\n",
      "Epoch 8/10\n",
      "\u001b[1m100/100\u001b[0m \u001b[32m━━━━━━━━━━━━━━━━━━━━\u001b[0m\u001b[37m\u001b[0m \u001b[1m3s\u001b[0m 31ms/step - accuracy: 0.6393 - loss: 0.4125 - val_accuracy: 0.6436 - val_loss: 0.4043\n",
      "Epoch 9/10\n",
      "\u001b[1m100/100\u001b[0m \u001b[32m━━━━━━━━━━━━━━━━━━━━\u001b[0m\u001b[37m\u001b[0m \u001b[1m3s\u001b[0m 31ms/step - accuracy: 0.6243 - loss: 0.4154 - val_accuracy: 0.6436 - val_loss: 0.4040\n",
      "Epoch 10/10\n",
      "\u001b[1m100/100\u001b[0m \u001b[32m━━━━━━━━━━━━━━━━━━━━\u001b[0m\u001b[37m\u001b[0m \u001b[1m3s\u001b[0m 31ms/step - accuracy: 0.6400 - loss: 0.4104 - val_accuracy: 0.6436 - val_loss: 0.4020\n"
     ]
    }
   ],
   "source": [
    "history_3 = model_3.fit(\n",
    "    x_train, train_labels_cat,\n",
    "    validation_split=0.2,\n",
    "    epochs=10,\n",
    "    batch_size=32\n",
    ")"
   ]
  },
  {
   "cell_type": "code",
   "execution_count": null,
   "id": "55a941c5-c2f7-4f6b-bcd6-f400b667dcbd",
   "metadata": {},
   "outputs": [
    {
     "name": "stdout",
     "output_type": "stream",
     "text": [
      "\u001b[1m31/31\u001b[0m \u001b[32m━━━━━━━━━━━━━━━━━━━━\u001b[0m\u001b[37m\u001b[0m \u001b[1m0s\u001b[0m 13ms/step\n"
     ]
    }
   ],
   "source": [
    "model_3_cm, model_3_cmn,score = hp.determine_model_performance(model_3, x_test, test_label_data)"
   ]
  },
  {
   "cell_type": "code",
   "execution_count": 222,
   "id": "914c5639-2a4c-4ac3-8c74-39fdceb3835c",
   "metadata": {},
   "outputs": [
    {
     "data": {
      "text/plain": [
       "array([[495,  42, 101],\n",
       "       [ 92,   4,  20],\n",
       "       [174,  18,  46]])"
      ]
     },
     "execution_count": 222,
     "metadata": {},
     "output_type": "execute_result"
    }
   ],
   "source": [
    "model_3_cm"
   ]
  },
  {
   "cell_type": "code",
   "execution_count": 223,
   "id": "2dcc0f4f-a7b6-4a91-a104-6cf594b0948d",
   "metadata": {},
   "outputs": [
    {
     "data": {
      "text/plain": [
       "0.5493951612903226"
      ]
     },
     "execution_count": 223,
     "metadata": {},
     "output_type": "execute_result"
    }
   ],
   "source": [
    "score"
   ]
  }
 ],
 "metadata": {
  "kernelspec": {
   "display_name": "tensorflow_nlp",
   "language": "python",
   "name": "tensorflow_nlp"
  },
  "language_info": {
   "codemirror_mode": {
    "name": "ipython",
    "version": 3
   },
   "file_extension": ".py",
   "mimetype": "text/x-python",
   "name": "python",
   "nbconvert_exporter": "python",
   "pygments_lexer": "ipython3",
   "version": "3.9.9"
  }
 },
 "nbformat": 4,
 "nbformat_minor": 5
}

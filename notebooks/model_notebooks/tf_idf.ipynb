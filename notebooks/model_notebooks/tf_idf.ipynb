{
 "cells": [
  {
   "cell_type": "code",
   "execution_count": 17,
   "metadata": {},
   "outputs": [],
   "source": [
    "import re\n",
    "import numpy as np\n",
    "import pandas as pd\n",
    "from pathlib import Path\n",
    "from sklearn.metrics.pairwise import euclidean_distances\n",
    "from sklearn.feature_extraction.text import TfidfVectorizer\n",
    "from sklearn.cluster import AgglomerativeClustering\n",
    "from scipy.cluster import hierarchy \n",
    "\n",
    "from matplotlib import pyplot as plt\n",
    "\n",
    "import utils.helpers as hp"
   ]
  },
  {
   "cell_type": "code",
   "execution_count": 2,
   "metadata": {},
   "outputs": [],
   "source": [
    "def create_paragraph_dict(path:str, \n",
    "                          lines_to_skip:int, \n",
    "                          book_title:str, \n",
    "                          cut_num:int = 200,\n",
    "                          **kwargs)->dict:\n",
    "\n",
    "    cleaner_functions = {'pyrates': hp.pre_process_pyrates,\n",
    "                         'rc': hp.pre_process_rc,\n",
    "                         'wj': hp.pre_process_weekly_journal,\n",
    "                         'gt': hp.pre_process_gt}\n",
    "    \n",
    "    clean_func = cleaner_functions[book_title]\n",
    "\n",
    "    with open(path, 'r') as file:\n",
    "        for _ in range(lines_to_skip):\n",
    "            next(file)\n",
    "        text = file.read()\n",
    "\n",
    "    paragraphs = text.split('\\n\\n')\n",
    "\n",
    "    paragraph_dict = {}\n",
    "\n",
    "    for i, paragraph in enumerate(paragraphs):\n",
    "        clean_p = clean_func(paragraph, **kwargs)\n",
    "        if len(clean_p.split()) >= cut_num:\n",
    "            paragraph_dict[book_title + '_' + str(i)] = clean_p\n",
    "\n",
    "\n",
    "    return paragraph_dict"
   ]
  },
  {
   "cell_type": "code",
   "execution_count": 12,
   "metadata": {},
   "outputs": [],
   "source": [
    "def determine_custom_tf_idf_matrix(corpus:list)->pd.DataFrame:\n",
    "    \n",
    "    vectorizer = TfidfVectorizer(\n",
    "        input=\"content\", smooth_idf=False, norm=\"l2\", use_idf=False\n",
    "    )\n",
    "    x = vectorizer.fit_transform(corpus)\n",
    "\n",
    "    n_samples, _ = x.shape\n",
    "    array_sums = np.sum(x.toarray() > 0, axis=0)\n",
    "\n",
    "    # TfidfVectorizer uses np.log(n_samples/array_sums) + 1\n",
    "    idf_scale = np.log(n_samples / array_sums)\n",
    "    tf_idf = x.toarray() * idf_scale\n",
    "\n",
    "    return pd.DataFrame(tf_idf)"
   ]
  },
  {
   "cell_type": "code",
   "execution_count": 13,
   "metadata": {},
   "outputs": [],
   "source": [
    "def determine_tf_idf_matrix(corpus:list)->pd.DataFrame:\n",
    "    \n",
    "    vectorizer = TfidfVectorizer()\n",
    "    x = vectorizer.fit_transform(corpus)\n",
    "\n",
    "    return pd.DataFrame(x.toarray())"
   ]
  },
  {
   "cell_type": "code",
   "execution_count": 14,
   "metadata": {},
   "outputs": [],
   "source": [
    "def determine_distance_matrix(tf_idf:pd.DataFrame)->pd.DataFrame:\n",
    "    return pd.DataFrame(euclidean_distances(tf_idf))"
   ]
  },
  {
   "cell_type": "code",
   "execution_count": 3,
   "metadata": {},
   "outputs": [],
   "source": [
    "pyrates_paragraph_dict = create_paragraph_dict(path = '../books/gen_history_of_the_pyrates.txt',\n",
    "                                               lines_to_skip=52,\n",
    "                                               book_title='pyrates',\n",
    "                                               cut_num=150)"
   ]
  },
  {
   "cell_type": "code",
   "execution_count": 4,
   "metadata": {},
   "outputs": [
    {
     "data": {
      "text/plain": [
       "40"
      ]
     },
     "execution_count": 4,
     "metadata": {},
     "output_type": "execute_result"
    }
   ],
   "source": [
    "len(pyrates_paragraph_dict)"
   ]
  },
  {
   "cell_type": "code",
   "execution_count": 5,
   "metadata": {},
   "outputs": [
    {
     "name": "stdout",
     "output_type": "stream",
     "text": [
      "times marius sylla rome greatest strength yet torn pieces factions two great men every thing concerned publick good altogether neglected certain pyrates broke cicilia country asia minor situate coast mediterranean betwixt syria east whence divided mount tauris armenia minor west beginning mean inconsiderable two three ships men cruised greek islands taking ships ill arm  weakly defended however taking many prizes soon increased wealth power first action  made noise taking julius cæsar yet youth obliged fly cruelties sylla sought life went bithinia sojourned nicomedes king country return back sea met taken pyrates near island pharmacusa pyrates barbarous custom tying prisoners back back throwing sea supposing cæsar person high rank purple robes number attendants thought would profit preserve hopes receiving great sum ransom therefore told liberty provided would pay twenty talents judg  high demand money three thousand six hundred pounds sterling smiled accord promised fifty talents pleased surpriz  answer consented several attendants go direction raise money left among ruffians 3 attendants pass  eight thirty days seemed little concerned afraid often went sleep used charge make noise threatening disturbed hang also play  dice sometimes wrote verses dialogues used repeat also cause repeat praise admire would call beasts barbarians telling would crucify took sallies juvenile humour rather diverted displeased\n"
     ]
    }
   ],
   "source": [
    "print(pyrates_paragraph_dict['pyrates_67'])"
   ]
  },
  {
   "cell_type": "code",
   "execution_count": null,
   "metadata": {},
   "outputs": [],
   "source": [
    "rc_paragraph_dict = create_paragraph_dict(path = '../../books/daniel_defoe/robinson_crusoe.txt',\n",
    "                                               lines_to_skip=12,\n",
    "                                               book_title='rc',\n",
    "                                               cut_num=150)"
   ]
  },
  {
   "cell_type": "code",
   "execution_count": 7,
   "metadata": {},
   "outputs": [
    {
     "data": {
      "text/plain": [
       "35"
      ]
     },
     "execution_count": 7,
     "metadata": {},
     "output_type": "execute_result"
    }
   ],
   "source": [
    "len(rc_paragraph_dict)"
   ]
  },
  {
   "cell_type": "code",
   "execution_count": 8,
   "metadata": {},
   "outputs": [
    {
     "name": "stdout",
     "output_type": "stream",
     "text": [
      "slept well night sea-sick cheerful looking wonder upon sea rough terrible day could calm pleasant little time lest good resolutions continue companion indeed enticed away comes well bob says clapping upon shoulder warrant frighted want last night blew capful wind —a capful call said terrible storm.—a storm fool replied call storm nothing give us good ship sea-room think nothing squall wind youre fresh-water sailor bob come let us make bowl punch well forget see charming weather make short sad part story went old way sailors punch made made drunk one nights wickedness drowned repentance reflections upon past conduct resolutions future word sea returned smoothness surface settled calmness abatement storm hurry thoughts fears apprehensions swallowed sea forgotten current former desires returned entirely forgot vows promises made distress found indeed intervals reflection serious thoughts endeavour return sometimes shook roused distemper applying drinking company soon mastered return fits called five six days got complete victory conscience young fellow resolved troubled could desire another trial still providence cases generally resolved leave entirely without excuse would take deliverance next one worst hardened wretch among us would confess danger mercy\n"
     ]
    }
   ],
   "source": [
    "print(rc_paragraph_dict['rc_13'])"
   ]
  },
  {
   "cell_type": "code",
   "execution_count": null,
   "metadata": {},
   "outputs": [],
   "source": [
    "gt_paragraph_dict = create_paragraph_dict(path = '../../books/jonathan_swift/gullivers_travels.txt',\n",
    "                                               lines_to_skip=28,\n",
    "                                               book_title='gt',\n",
    "                                               cut_num=150)"
   ]
  },
  {
   "cell_type": "code",
   "execution_count": 10,
   "metadata": {},
   "outputs": [
    {
     "data": {
      "text/plain": [
       "76"
      ]
     },
     "execution_count": 10,
     "metadata": {},
     "output_type": "execute_result"
    }
   ],
   "source": [
    "len(gt_paragraph_dict)"
   ]
  },
  {
   "cell_type": "code",
   "execution_count": 11,
   "metadata": {},
   "outputs": [
    {
     "name": "stdout",
     "output_type": "stream",
     "text": [
      "hope ready publicly whenever shall called great frequent urgency prevailed publish loose uncorrect account travels directions hire young gentleman either university put order correct style cousin dampier advice book called voyage round world remember gave power consent thing omitted much less thing inserted therefore latter renounce every thing kind particularly paragraph majesty queen anne pious glorious memory although reverence esteem human species interpolator ought considered inclination decent praise animal composition master houyhnhnm besides fact altogether false knowledge england part majestys reign govern chief minister nay even two successively first whereof lord godolphin second lord oxford made say thing likewise account academy projectors several passages discourse master houyhnhnm either omitted material circumstances minced changed manner hardly know work formerly hinted something letter pleased answer afraid giving offence people power watchful press apt interpret punish every thing looked like innuendo think call pray could spoke many years ago five thousand leagues distance another reign applied yahoos said govern herd especially time little thought feared unhappiness living reason complain see yahoos carried houyhnhnms vehicle brutes rational creatures indeed avoid monstrous detestable sight one principal motive retirement hither\n"
     ]
    }
   ],
   "source": [
    "print(gt_paragraph_dict['gt_9'])"
   ]
  },
  {
   "cell_type": "code",
   "execution_count": null,
   "metadata": {},
   "outputs": [],
   "source": [
    "mist_text_paths = Path('../../books/mist_weekly_journal_text').glob('*')\n",
    "mist_text_files = [f for f in mist_text_paths]"
   ]
  },
  {
   "cell_type": "code",
   "execution_count": null,
   "metadata": {},
   "outputs": [],
   "source": [
    "mist_paragraph_dict = {}\n",
    "file_num = 0\n",
    "\n",
    "for f in mist_text_files:\n",
    "    print(f)\n",
    "    temp = create_paragraph_dict(f,0,'wj',150)\n",
    "    \n",
    "    for k, v in temp.items():\n",
    "        mist_paragraph_dict[k+'_'+str(file_num)] = v\n",
    "    \n",
    "    file_num +=1"
   ]
  },
  {
   "cell_type": "code",
   "execution_count": 26,
   "metadata": {},
   "outputs": [],
   "source": [
    "def random_sample_dict(data:dict, number:int)->dict:\n",
    "\n",
    "    keys = list(data.keys())\n",
    "    sample_keys = np.random.choice(keys, size=number, replace=False)\n",
    "\n",
    "    sample_dict = {}\n",
    "    for k in sample_keys:\n",
    "        sample_dict[k] = data[k]\n",
    "\n",
    "    return sample_dict"
   ]
  },
  {
   "cell_type": "code",
   "execution_count": 42,
   "metadata": {},
   "outputs": [],
   "source": [
    "sample_pyrates = random_sample_dict(pyrates_paragraph_dict, 20)\n",
    "sample_rc = random_sample_dict(rc_paragraph_dict, 20)\n",
    "sample_mist = random_sample_dict(mist_paragraph_dict, 20)"
   ]
  },
  {
   "cell_type": "code",
   "execution_count": 43,
   "metadata": {},
   "outputs": [],
   "source": [
    "corpus = list(sample_pyrates.values())+list(sample_rc.values())+list(sample_mist.values())\n",
    "tf_idf = determine_tf_idf_matrix(corpus=corpus)"
   ]
  },
  {
   "cell_type": "code",
   "execution_count": 44,
   "metadata": {},
   "outputs": [
    {
     "data": {
      "text/html": [
       "<div>\n",
       "<style scoped>\n",
       "    .dataframe tbody tr th:only-of-type {\n",
       "        vertical-align: middle;\n",
       "    }\n",
       "\n",
       "    .dataframe tbody tr th {\n",
       "        vertical-align: top;\n",
       "    }\n",
       "\n",
       "    .dataframe thead th {\n",
       "        text-align: right;\n",
       "    }\n",
       "</style>\n",
       "<table border=\"1\" class=\"dataframe\">\n",
       "  <thead>\n",
       "    <tr style=\"text-align: right;\">\n",
       "      <th></th>\n",
       "      <th>0</th>\n",
       "      <th>1</th>\n",
       "      <th>2</th>\n",
       "      <th>3</th>\n",
       "      <th>4</th>\n",
       "      <th>5</th>\n",
       "      <th>6</th>\n",
       "      <th>7</th>\n",
       "      <th>8</th>\n",
       "      <th>9</th>\n",
       "      <th>...</th>\n",
       "      <th>50</th>\n",
       "      <th>51</th>\n",
       "      <th>52</th>\n",
       "      <th>53</th>\n",
       "      <th>54</th>\n",
       "      <th>55</th>\n",
       "      <th>56</th>\n",
       "      <th>57</th>\n",
       "      <th>58</th>\n",
       "      <th>59</th>\n",
       "    </tr>\n",
       "  </thead>\n",
       "  <tbody>\n",
       "    <tr>\n",
       "      <th>0</th>\n",
       "      <td>0.000000</td>\n",
       "      <td>1.371344</td>\n",
       "      <td>1.374165</td>\n",
       "      <td>1.395060</td>\n",
       "      <td>1.354518</td>\n",
       "      <td>1.301246</td>\n",
       "      <td>1.358174</td>\n",
       "      <td>1.390815</td>\n",
       "      <td>1.288732</td>\n",
       "      <td>1.375507</td>\n",
       "      <td>...</td>\n",
       "      <td>1.406698</td>\n",
       "      <td>1.408022</td>\n",
       "      <td>1.407254</td>\n",
       "      <td>1.409628</td>\n",
       "      <td>1.401058</td>\n",
       "      <td>1.413052</td>\n",
       "      <td>1.410515</td>\n",
       "      <td>1.406901</td>\n",
       "      <td>1.409253</td>\n",
       "      <td>1.409341</td>\n",
       "    </tr>\n",
       "    <tr>\n",
       "      <th>1</th>\n",
       "      <td>1.371344</td>\n",
       "      <td>0.000000</td>\n",
       "      <td>1.367691</td>\n",
       "      <td>1.398799</td>\n",
       "      <td>1.359956</td>\n",
       "      <td>1.355790</td>\n",
       "      <td>1.340284</td>\n",
       "      <td>1.357799</td>\n",
       "      <td>1.360814</td>\n",
       "      <td>1.382818</td>\n",
       "      <td>...</td>\n",
       "      <td>1.405059</td>\n",
       "      <td>1.393725</td>\n",
       "      <td>1.407469</td>\n",
       "      <td>1.402434</td>\n",
       "      <td>1.401284</td>\n",
       "      <td>1.412414</td>\n",
       "      <td>1.403291</td>\n",
       "      <td>1.404638</td>\n",
       "      <td>1.397142</td>\n",
       "      <td>1.397168</td>\n",
       "    </tr>\n",
       "    <tr>\n",
       "      <th>2</th>\n",
       "      <td>1.374165</td>\n",
       "      <td>1.367691</td>\n",
       "      <td>0.000000</td>\n",
       "      <td>1.005774</td>\n",
       "      <td>1.393690</td>\n",
       "      <td>1.375722</td>\n",
       "      <td>1.161160</td>\n",
       "      <td>1.403553</td>\n",
       "      <td>1.375808</td>\n",
       "      <td>0.919228</td>\n",
       "      <td>...</td>\n",
       "      <td>1.406878</td>\n",
       "      <td>1.412970</td>\n",
       "      <td>1.413349</td>\n",
       "      <td>1.411845</td>\n",
       "      <td>1.411434</td>\n",
       "      <td>1.414214</td>\n",
       "      <td>1.412987</td>\n",
       "      <td>1.413951</td>\n",
       "      <td>1.410780</td>\n",
       "      <td>1.408655</td>\n",
       "    </tr>\n",
       "    <tr>\n",
       "      <th>3</th>\n",
       "      <td>1.395060</td>\n",
       "      <td>1.398799</td>\n",
       "      <td>1.005774</td>\n",
       "      <td>0.000000</td>\n",
       "      <td>1.407223</td>\n",
       "      <td>1.391012</td>\n",
       "      <td>1.122375</td>\n",
       "      <td>1.397278</td>\n",
       "      <td>1.382578</td>\n",
       "      <td>0.839698</td>\n",
       "      <td>...</td>\n",
       "      <td>1.409235</td>\n",
       "      <td>1.413372</td>\n",
       "      <td>1.413173</td>\n",
       "      <td>1.410992</td>\n",
       "      <td>1.411339</td>\n",
       "      <td>1.414214</td>\n",
       "      <td>1.408523</td>\n",
       "      <td>1.403822</td>\n",
       "      <td>1.412491</td>\n",
       "      <td>1.412456</td>\n",
       "    </tr>\n",
       "    <tr>\n",
       "      <th>4</th>\n",
       "      <td>1.354518</td>\n",
       "      <td>1.359956</td>\n",
       "      <td>1.393690</td>\n",
       "      <td>1.407223</td>\n",
       "      <td>0.000000</td>\n",
       "      <td>1.308028</td>\n",
       "      <td>1.365901</td>\n",
       "      <td>1.383798</td>\n",
       "      <td>1.334212</td>\n",
       "      <td>1.382047</td>\n",
       "      <td>...</td>\n",
       "      <td>1.412494</td>\n",
       "      <td>1.405140</td>\n",
       "      <td>1.404550</td>\n",
       "      <td>1.395974</td>\n",
       "      <td>1.398974</td>\n",
       "      <td>1.412734</td>\n",
       "      <td>1.409657</td>\n",
       "      <td>1.395690</td>\n",
       "      <td>1.404135</td>\n",
       "      <td>1.398899</td>\n",
       "    </tr>\n",
       "  </tbody>\n",
       "</table>\n",
       "<p>5 rows × 60 columns</p>\n",
       "</div>"
      ],
      "text/plain": [
       "         0         1         2         3         4         5         6   \\\n",
       "0  0.000000  1.371344  1.374165  1.395060  1.354518  1.301246  1.358174   \n",
       "1  1.371344  0.000000  1.367691  1.398799  1.359956  1.355790  1.340284   \n",
       "2  1.374165  1.367691  0.000000  1.005774  1.393690  1.375722  1.161160   \n",
       "3  1.395060  1.398799  1.005774  0.000000  1.407223  1.391012  1.122375   \n",
       "4  1.354518  1.359956  1.393690  1.407223  0.000000  1.308028  1.365901   \n",
       "\n",
       "         7         8         9   ...        50        51        52        53  \\\n",
       "0  1.390815  1.288732  1.375507  ...  1.406698  1.408022  1.407254  1.409628   \n",
       "1  1.357799  1.360814  1.382818  ...  1.405059  1.393725  1.407469  1.402434   \n",
       "2  1.403553  1.375808  0.919228  ...  1.406878  1.412970  1.413349  1.411845   \n",
       "3  1.397278  1.382578  0.839698  ...  1.409235  1.413372  1.413173  1.410992   \n",
       "4  1.383798  1.334212  1.382047  ...  1.412494  1.405140  1.404550  1.395974   \n",
       "\n",
       "         54        55        56        57        58        59  \n",
       "0  1.401058  1.413052  1.410515  1.406901  1.409253  1.409341  \n",
       "1  1.401284  1.412414  1.403291  1.404638  1.397142  1.397168  \n",
       "2  1.411434  1.414214  1.412987  1.413951  1.410780  1.408655  \n",
       "3  1.411339  1.414214  1.408523  1.403822  1.412491  1.412456  \n",
       "4  1.398974  1.412734  1.409657  1.395690  1.404135  1.398899  \n",
       "\n",
       "[5 rows x 60 columns]"
      ]
     },
     "execution_count": 44,
     "metadata": {},
     "output_type": "execute_result"
    }
   ],
   "source": [
    "dist_matrix = determine_distance_matrix(tf_idf=tf_idf)\n",
    "dist_matrix.head()"
   ]
  },
  {
   "cell_type": "code",
   "execution_count": 45,
   "metadata": {},
   "outputs": [],
   "source": [
    "document_labels = list(sample_pyrates.keys())+list(sample_rc.keys())+list(sample_mist.keys())"
   ]
  },
  {
   "cell_type": "markdown",
   "metadata": {},
   "source": [
    "### Create clusters from `TF IDF` matrix"
   ]
  },
  {
   "cell_type": "code",
   "execution_count": 46,
   "metadata": {},
   "outputs": [
    {
     "data": {
      "image/png": "[encoded data removed]",
      "text/plain": [
       "<Figure size 640x480 with 1 Axes>"
      ]
     },
     "metadata": {},
     "output_type": "display_data"
    }
   ],
   "source": [
    "comp_linkage = hierarchy.linkage(tf_idf, method = 'complete')\n",
    "hierarchy.dendrogram(comp_linkage, labels=document_labels)\n",
    "plt.show()"
   ]
  },
  {
   "cell_type": "markdown",
   "metadata": {},
   "source": [
    "### Use all paragraphs"
   ]
  },
  {
   "cell_type": "code",
   "execution_count": null,
   "metadata": {},
   "outputs": [],
   "source": [
    "corpus_all = list(pyrates_paragraph_dict.values())+list(rc_paragraph_dict.values())+list(mist_paragraph_dict.values())\n",
    "tf_idf_all = determine_tf_idf_matrix(corpus=corpus_all)\n",
    "document_labels_all = list(pyrates_paragraph_dict.keys())+list(rc_paragraph_dict.keys())+list(mist_paragraph_dict.keys())"
   ]
  },
  {
   "cell_type": "code",
   "execution_count": 55,
   "metadata": {},
   "outputs": [],
   "source": [
    "comp_linkage_all = hierarchy.linkage(tf_idf_all, method = 'complete')\n",
    "assignments = hierarchy.cut_tree(comp_linkage_all,n_clusters=2).T[0]"
   ]
  },
  {
   "cell_type": "code",
   "execution_count": 56,
   "metadata": {},
   "outputs": [],
   "source": [
    "assignment_df = pd.DataFrame({'document_labels': document_labels_all, 'assignments': assignments})\n",
    "assignment_df['book'] = assignment_df['document_labels'].str.split('_').str[0]"
   ]
  },
  {
   "cell_type": "code",
   "execution_count": 57,
   "metadata": {},
   "outputs": [
    {
     "data": {
      "text/html": [
       "<div>\n",
       "<style scoped>\n",
       "    .dataframe tbody tr th:only-of-type {\n",
       "        vertical-align: middle;\n",
       "    }\n",
       "\n",
       "    .dataframe tbody tr th {\n",
       "        vertical-align: top;\n",
       "    }\n",
       "\n",
       "    .dataframe thead th {\n",
       "        text-align: right;\n",
       "    }\n",
       "</style>\n",
       "<table border=\"1\" class=\"dataframe\">\n",
       "  <thead>\n",
       "    <tr style=\"text-align: right;\">\n",
       "      <th></th>\n",
       "      <th>assignments</th>\n",
       "      <th>book</th>\n",
       "      <th>count</th>\n",
       "    </tr>\n",
       "  </thead>\n",
       "  <tbody>\n",
       "    <tr>\n",
       "      <th>2</th>\n",
       "      <td>1</td>\n",
       "      <td>wj</td>\n",
       "      <td>198</td>\n",
       "    </tr>\n",
       "    <tr>\n",
       "      <th>0</th>\n",
       "      <td>0</td>\n",
       "      <td>pyrates</td>\n",
       "      <td>40</td>\n",
       "    </tr>\n",
       "    <tr>\n",
       "      <th>1</th>\n",
       "      <td>0</td>\n",
       "      <td>rc</td>\n",
       "      <td>35</td>\n",
       "    </tr>\n",
       "  </tbody>\n",
       "</table>\n",
       "</div>"
      ],
      "text/plain": [
       "   assignments     book  count\n",
       "2            1       wj    198\n",
       "0            0  pyrates     40\n",
       "1            0       rc     35"
      ]
     },
     "execution_count": 57,
     "metadata": {},
     "output_type": "execute_result"
    }
   ],
   "source": [
    "result = assignment_df.groupby(['assignments', 'book']).size().reset_index(name='count')\n",
    "result.sort_values('count', ascending=False)"
   ]
  },
  {
   "cell_type": "code",
   "execution_count": 59,
   "metadata": {},
   "outputs": [
    {
     "name": "stdout",
     "output_type": "stream",
     "text": [
      "gave diverting account life many extraordinary events many adventures befallen years abroad world particularly remarkable viz voyage engaged misfortune five times shipped unshipped never go place whither ships first designed first intent gone martinico went board ship bound thither st. maloes forced lisbon bad weather ship received damage running aground mouth river tagus obliged unload cargo finding portuguese ship bound madeiras ready sail supposing easily meet vessel bound martinico went board order sail madeiras master portuguese ship indifferent mariner reckoning drove fyal however happened find good market cargo corn therefore resolved go madeiras load salt isle may go away newfoundland remedy exigence go ship pretty good voyage far banks call place catch fish meeting french ship bound france quebec river canada thence martinico carry provisions thought opportunity complete first design came quebec master ship died ship proceeded farther next voyage shipped france ship burnt took sea shipped us east indies already said thus disappointed five voyages may call one voyage besides shall occasion mention farther person\n"
     ]
    }
   ],
   "source": [
    "print(rc_paragraph_dict['rc_1334'])"
   ]
  },
  {
   "cell_type": "code",
   "execution_count": 60,
   "metadata": {},
   "outputs": [
    {
     "name": "stdout",
     "output_type": "stream",
     "text": [
      "whereas received information several persons subjects great britain since 24th day june year lord 1715 committed divers pyracies robberies upon high-seas west-indies adjoyning plantations hath may occasion great damage merchants great britain others trading parts tho appointed force judge sufficient suppressing said pyrates yet effectually put end thought fit advice privy council issue royal proclamation hereby promise declare case said pyrates shall 5th september year lord 1718 surrender one principal secretaries state great britain ireland governor deputy governor plantations beyond seas every pyrate pyrates surrendering aforesaid shall gracious pardon pyracy pyracies committed fifth january next ensuing hereby strictly charge command admirals captains officers sea governors commanders forts castles places plantations officers civil military seize take pyrates shall refuse neglect surrender accordingly hereby declare case person persons 6th day september 1718 shall discover seize cause procure discovered seized one said pyrates refusing neglecting surrender aforesaid may brought justice convicted said offence person persons making discovery seizure causing procuring discovery seizure made shall receive reward viz every commander private ship vessel sum 100 l. every lieutenant master boatswain carpenter gunner sum 40 l every inferior officer sum 30 l. every private man sum 20 l. person persons belonging part crew pyrate ship vessel shall said sixth day september 1718 seize deliver cause seized delivered commander commanders pyrate ship vessel brought justice convicted said offence person persons reward shall receive every commander sum 200 l. said sums lord treasurer commissioners treasury time hereby required desired pay accordingly\n"
     ]
    }
   ],
   "source": [
    "print(pyrates_paragraph_dict['pyrates_108'])"
   ]
  },
  {
   "cell_type": "code",
   "execution_count": 61,
   "metadata": {},
   "outputs": [],
   "source": [
    "rc_para = set(rc_paragraph_dict['rc_1334'].split(' '))"
   ]
  },
  {
   "cell_type": "code",
   "execution_count": 62,
   "metadata": {},
   "outputs": [],
   "source": [
    "p_para = set(pyrates_paragraph_dict['pyrates_108'].split(' '))"
   ]
  },
  {
   "cell_type": "code",
   "execution_count": 63,
   "metadata": {},
   "outputs": [
    {
     "data": {
      "text/plain": [
       "{'damage',\n",
       " 'master',\n",
       " 'may',\n",
       " 'next',\n",
       " 'occasion',\n",
       " 'one',\n",
       " 'person',\n",
       " 'received',\n",
       " 'said',\n",
       " 'sea',\n",
       " 'shall',\n",
       " 'ship',\n",
       " 'thought',\n",
       " 'vessel',\n",
       " 'viz'}"
      ]
     },
     "execution_count": 63,
     "metadata": {},
     "output_type": "execute_result"
    }
   ],
   "source": [
    "rc_para.intersection(p_para)"
   ]
  }
 ],
 "metadata": {
  "kernelspec": {
   "display_name": ".venv",
   "language": "python",
   "name": "python3"
  },
  "language_info": {
   "codemirror_mode": {
    "name": "ipython",
    "version": 3
   },
   "file_extension": ".py",
   "mimetype": "text/x-python",
   "name": "python",
   "nbconvert_exporter": "python",
   "pygments_lexer": "ipython3",
   "version": "3.12.7"
  }
 },
 "nbformat": 4,
 "nbformat_minor": 2
}

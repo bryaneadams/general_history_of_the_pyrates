{
 "cells": [
  {
   "cell_type": "code",
   "execution_count": 56,
   "metadata": {},
   "outputs": [],
   "source": [
    "from pathlib import Path\n",
    "from pdf2image import convert_from_path\n",
    "from pytesseract import image_to_string\n",
    "from nltk.corpus import words\n",
    "from nltk.tokenize import sent_tokenize\n",
    "import re"
   ]
  },
  {
   "cell_type": "code",
   "execution_count": null,
   "metadata": {},
   "outputs": [],
   "source": [
    "file_paths = Path('../../books/mist_weekly_journal_pdfs').glob('*')\n",
    "files = [f for f in file_paths]"
   ]
  },
  {
   "cell_type": "markdown",
   "metadata": {},
   "source": [
    "### This takes about 40-120 mins to run depending on your computer"
   ]
  },
  {
   "cell_type": "markdown",
   "metadata": {},
   "source": [
    "already processed\n",
    "```\n",
    "Z2000786038.pdf\n",
    "Z2000786071.pdf\n",
    "Z2000786104.pdf\n",
    "Z2000786112.pdf\n",
    "Z2001599204.pdf\n",
    "Z2000786061.pdf\n",
    "Z2000786075.pdf\n",
    "Z2000786050.pdf\n",
    "Z2000786085.pdf\n",
    "Z2000786122.pdf\n",
    "Z2000786094.pdf\n",
    "Z2000786166.pdf\n",
    "Z2000786198.pdf\n",
    "Z2000786213.pdf\n",
    "Z2000786171.pdf\n",
    "Z2000786038.pdf\n",
    "Z2000786161.pdf\n",
    "Z2000786203.pdf\n",
    "Z2000786229.pdf\n",
    "Z2000786189.pdf\n",
    "Z2000786176.pdf\n",
    "Z2000786071.pdf\n",
    "Z2000786104.pdf\n",
    "Z2000786112.pdf\n",
    "Z2001599204.pdf\n",
    "Z2000786061.pdf\n",
    "Z2000786075.pdf\n",
    "Z2000786050.pdf\n",
    "Z2000786131.pdf\n",
    "Z2000786127.pdf\n",
    "Z2000786085.pdf\n",
    "Z2000786240.pdf\n",
    "Z2000786136.pdf\n",
    "Z2000786122.pdf\n",
    "Z2000786094.pdf\n",
    "Z2000786184.pdf\n",
    "Z2000786218.pdf\n",
    "Z2000786224.pdf\n",
    "Z2000786193.pdf\n",
    "Z2000786145.pdf\n",
    "Z2000786151.pdf\n",
    "Z2000786140.pdf\n",
    "Z2000786208.pdf\n",
    "Z2000786234.pdf\n",
    "Z2000786156.pdf\n",
    "Z2000786180.pdf\n",
    "```"
   ]
  },
  {
   "cell_type": "code",
   "execution_count": 48,
   "metadata": {},
   "outputs": [],
   "source": [
    "processed_already = [6038,6071,6104,6112,9204,6061,6075,6050,6085,6122,6094]"
   ]
  },
  {
   "cell_type": "code",
   "execution_count": null,
   "metadata": {},
   "outputs": [
    {
     "name": "stdout",
     "output_type": "stream",
     "text": [
      "processing ../books/mist_weekly_journal_pdfs/Z2000786166.pdf\n",
      "processing ../books/mist_weekly_journal_pdfs/Z2000786198.pdf\n",
      "processing ../books/mist_weekly_journal_pdfs/Z2000786213.pdf\n",
      "processing ../books/mist_weekly_journal_pdfs/Z2000786171.pdf\n",
      "processing ../books/mist_weekly_journal_pdfs/Z2000786038.pdf\n",
      "processing ../books/mist_weekly_journal_pdfs/Z2000786161.pdf\n",
      "processing ../books/mist_weekly_journal_pdfs/Z2000786203.pdf\n",
      "processing ../books/mist_weekly_journal_pdfs/Z2000786229.pdf\n",
      "processing ../books/mist_weekly_journal_pdfs/Z2000786189.pdf\n",
      "processing ../books/mist_weekly_journal_pdfs/Z2000786176.pdf\n",
      "processing ../books/mist_weekly_journal_pdfs/Z2000786071.pdf\n",
      "processing ../books/mist_weekly_journal_pdfs/Z2000786104.pdf\n",
      "processing ../books/mist_weekly_journal_pdfs/Z2000786112.pdf\n",
      "processing ../books/mist_weekly_journal_pdfs/Z2001599204.pdf\n",
      "processing ../books/mist_weekly_journal_pdfs/Z2000786061.pdf\n",
      "processing ../books/mist_weekly_journal_pdfs/Z2000786075.pdf\n",
      "processing ../books/mist_weekly_journal_pdfs/Z2000786050.pdf\n",
      "processing ../books/mist_weekly_journal_pdfs/Z2000786131.pdf\n",
      "processing ../books/mist_weekly_journal_pdfs/Z2000786127.pdf\n",
      "processing ../books/mist_weekly_journal_pdfs/Z2000786085.pdf\n",
      "processing ../books/mist_weekly_journal_pdfs/Z2000786240.pdf\n",
      "processing ../books/mist_weekly_journal_pdfs/Z2000786136.pdf\n",
      "processing ../books/mist_weekly_journal_pdfs/Z2000786122.pdf\n",
      "processing ../books/mist_weekly_journal_pdfs/Z2000786094.pdf\n",
      "processing ../books/mist_weekly_journal_pdfs/Z2000786184.pdf\n",
      "processing ../books/mist_weekly_journal_pdfs/Z2000786218.pdf\n",
      "processing ../books/mist_weekly_journal_pdfs/Z2000786224.pdf\n",
      "processing ../books/mist_weekly_journal_pdfs/Z2000786193.pdf\n",
      "processing ../books/mist_weekly_journal_pdfs/Z2000786145.pdf\n",
      "processing ../books/mist_weekly_journal_pdfs/Z2000786151.pdf\n",
      "processing ../books/mist_weekly_journal_pdfs/Z2000786140.pdf\n",
      "processing ../books/mist_weekly_journal_pdfs/Z2000786208.pdf\n",
      "processing ../books/mist_weekly_journal_pdfs/Z2000786234.pdf\n",
      "processing ../books/mist_weekly_journal_pdfs/Z2000786156.pdf\n",
      "processing ../books/mist_weekly_journal_pdfs/Z2000786180.pdf\n"
     ]
    }
   ],
   "source": [
    "for f in files:\n",
    "\n",
    "    print('processing {}'.format(f))\n",
    "\n",
    "    file_name = str(f).split('/')[-1].split('.')[0][-4:]\n",
    "\n",
    "    if file_name in processed_already:\n",
    "        continue\n",
    "\n",
    "    mist_weekly_j_name = 'mist_weekly_journal_'+file_name\n",
    "\n",
    "    images = convert_from_path(f)\n",
    "    mist_text = ''\n",
    "\n",
    "    for page_num, image in enumerate(images):\n",
    "        text = image_to_string(image)\n",
    "        mist_text = mist_text + text + ' '\n",
    "\n",
    "    with open('../../books/mist_weekly_journal_text/{}.txt'.format(mist_weekly_j_name), 'w') as file:\n",
    "        file.write(mist_text)"
   ]
  },
  {
   "cell_type": "code",
   "execution_count": null,
   "metadata": {},
   "outputs": [],
   "source": [
    "def mist_text_data_prep(text:str, cutoff:int = 50)->list:\n",
    "    \"\"\"Used to read in, clean and keep Mist Weekly Journal Sentences\n",
    "\n",
    "    Args:\n",
    "        text (str): original text\n",
    "        cutoff (int, optional): Cutoff length. Defaults to 50.\n",
    "\n",
    "    Returns:\n",
    "        list: List of sentences to keep\n",
    "    \"\"\"\n",
    "\n",
    "    cleaned_text = re.sub(r'[^a-zA-Z0-9\\s[:punct:]]', '', text)\n",
    "    sentences = sent_tokenize(cleaned_text)\n",
    "\n",
    "    cleaned_sentences = []\n",
    "    valid_words = set(words.words())\n",
    "\n",
    "    for s in sentences:\n",
    "        last_item = s[-1:]\n",
    "        if last_item not in ['.','!',';','?']:\n",
    "            last_item = ''\n",
    "\n",
    "        tokens = s.split()\n",
    "        \n",
    "        filtered_tokens = [word for word in tokens if word.lower() in valid_words]\n",
    "        \n",
    "        filtered_text = ' '.join(filtered_tokens)\n",
    "\n",
    "        filtered_text+=last_item\n",
    "\n",
    "        if len(filtered_tokens)>=cutoff:\n",
    "\n",
    "            cleaned_sentences.append(filtered_text)\n",
    "    \n",
    "    return cleaned_sentences"
   ]
  },
  {
   "cell_type": "code",
   "execution_count": null,
   "metadata": {},
   "outputs": [],
   "source": [
    "mist_text_paths = Path('../../books/mist_weekly_journal_text').glob('*')\n",
    "mist_text_files = [f for f in mist_text_paths]"
   ]
  },
  {
   "cell_type": "code",
   "execution_count": 58,
   "metadata": {},
   "outputs": [
    {
     "data": {
      "text/plain": [
       "35"
      ]
     },
     "execution_count": 58,
     "metadata": {},
     "output_type": "execute_result"
    }
   ],
   "source": [
    "len(mist_text_files)"
   ]
  },
  {
   "cell_type": "code",
   "execution_count": 54,
   "metadata": {},
   "outputs": [],
   "source": [
    "mist_50 = []\n",
    "for f in mist_text_files:\n",
    "\n",
    "    with open(f, 'r') as file:\n",
    "        mist_text = file.read()\n",
    "\n",
    "    cleaned_50 = mist_text_data_prep(mist_text)\n",
    "\n",
    "    mist_50.extend(cleaned_50)"
   ]
  },
  {
   "cell_type": "code",
   "execution_count": 55,
   "metadata": {},
   "outputs": [
    {
     "data": {
      "text/plain": [
       "615"
      ]
     },
     "execution_count": 55,
     "metadata": {},
     "output_type": "execute_result"
    }
   ],
   "source": [
    "len(mist_50)"
   ]
  }
 ],
 "metadata": {
  "kernelspec": {
   "display_name": ".venv",
   "language": "python",
   "name": "python3"
  },
  "language_info": {
   "codemirror_mode": {
    "name": "ipython",
    "version": 3
   },
   "file_extension": ".py",
   "mimetype": "text/x-python",
   "name": "python",
   "nbconvert_exporter": "python",
   "pygments_lexer": "ipython3",
   "version": "3.12.7"
  }
 },
 "nbformat": 4,
 "nbformat_minor": 2
}
